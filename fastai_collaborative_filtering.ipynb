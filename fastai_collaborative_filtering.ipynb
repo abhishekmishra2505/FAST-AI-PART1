{
 "cells": [
  {
   "cell_type": "markdown",
   "metadata": {
    "heading_collapsed": true
   },
   "source": [
    "## Movielens"
   ]
  },
  {
   "cell_type": "code",
   "execution_count": 78,
   "metadata": {
    "collapsed": true,
    "hidden": true
   },
   "outputs": [],
   "source": [
    "%reload_ext autoreload\n",
    "%autoreload 2\n",
    "%matplotlib inline\n",
    "\n",
    "from fastai.learner import *\n",
    "from fastai.column_data import *"
   ]
  },
  {
   "cell_type": "markdown",
   "metadata": {
    "hidden": true
   },
   "source": [
    "Data available from http://files.grouplens.org/datasets/movielens/ml-latest-small.zip"
   ]
  },
  {
   "cell_type": "code",
   "execution_count": 79,
   "metadata": {
    "collapsed": true,
    "hidden": true
   },
   "outputs": [],
   "source": [
    "path='data/ml-latest-small/'"
   ]
  },
  {
   "cell_type": "markdown",
   "metadata": {
    "hidden": true
   },
   "source": [
    "We're working with the movielens data, which contains one rating per row, like this:"
   ]
  },
  {
   "cell_type": "code",
   "execution_count": 80,
   "metadata": {
    "hidden": true
   },
   "outputs": [
    {
     "data": {
      "text/html": [
       "<div>\n",
       "<style>\n",
       "    .dataframe thead tr:only-child th {\n",
       "        text-align: right;\n",
       "    }\n",
       "\n",
       "    .dataframe thead th {\n",
       "        text-align: left;\n",
       "    }\n",
       "\n",
       "    .dataframe tbody tr th {\n",
       "        vertical-align: top;\n",
       "    }\n",
       "</style>\n",
       "<table border=\"1\" class=\"dataframe\">\n",
       "  <thead>\n",
       "    <tr style=\"text-align: right;\">\n",
       "      <th></th>\n",
       "      <th>userId</th>\n",
       "      <th>movieId</th>\n",
       "      <th>rating</th>\n",
       "      <th>timestamp</th>\n",
       "    </tr>\n",
       "  </thead>\n",
       "  <tbody>\n",
       "    <tr>\n",
       "      <th>0</th>\n",
       "      <td>1</td>\n",
       "      <td>31</td>\n",
       "      <td>2.5</td>\n",
       "      <td>1260759144</td>\n",
       "    </tr>\n",
       "    <tr>\n",
       "      <th>1</th>\n",
       "      <td>1</td>\n",
       "      <td>1029</td>\n",
       "      <td>3.0</td>\n",
       "      <td>1260759179</td>\n",
       "    </tr>\n",
       "    <tr>\n",
       "      <th>2</th>\n",
       "      <td>1</td>\n",
       "      <td>1061</td>\n",
       "      <td>3.0</td>\n",
       "      <td>1260759182</td>\n",
       "    </tr>\n",
       "    <tr>\n",
       "      <th>3</th>\n",
       "      <td>1</td>\n",
       "      <td>1129</td>\n",
       "      <td>2.0</td>\n",
       "      <td>1260759185</td>\n",
       "    </tr>\n",
       "    <tr>\n",
       "      <th>4</th>\n",
       "      <td>1</td>\n",
       "      <td>1172</td>\n",
       "      <td>4.0</td>\n",
       "      <td>1260759205</td>\n",
       "    </tr>\n",
       "  </tbody>\n",
       "</table>\n",
       "</div>"
      ],
      "text/plain": [
       "   userId  movieId  rating   timestamp\n",
       "0       1       31     2.5  1260759144\n",
       "1       1     1029     3.0  1260759179\n",
       "2       1     1061     3.0  1260759182\n",
       "3       1     1129     2.0  1260759185\n",
       "4       1     1172     4.0  1260759205"
      ]
     },
     "execution_count": 80,
     "metadata": {},
     "output_type": "execute_result"
    }
   ],
   "source": [
    "ratings = pd.read_csv(path+'ratings.csv')\n",
    "ratings.head()"
   ]
  },
  {
   "cell_type": "markdown",
   "metadata": {
    "hidden": true
   },
   "source": [
    "Just for display purposes, let's read in the movie names too."
   ]
  },
  {
   "cell_type": "code",
   "execution_count": 81,
   "metadata": {
    "hidden": true
   },
   "outputs": [
    {
     "data": {
      "text/html": [
       "<div>\n",
       "<style>\n",
       "    .dataframe thead tr:only-child th {\n",
       "        text-align: right;\n",
       "    }\n",
       "\n",
       "    .dataframe thead th {\n",
       "        text-align: left;\n",
       "    }\n",
       "\n",
       "    .dataframe tbody tr th {\n",
       "        vertical-align: top;\n",
       "    }\n",
       "</style>\n",
       "<table border=\"1\" class=\"dataframe\">\n",
       "  <thead>\n",
       "    <tr style=\"text-align: right;\">\n",
       "      <th></th>\n",
       "      <th>movieId</th>\n",
       "      <th>title</th>\n",
       "      <th>genres</th>\n",
       "    </tr>\n",
       "  </thead>\n",
       "  <tbody>\n",
       "    <tr>\n",
       "      <th>0</th>\n",
       "      <td>1</td>\n",
       "      <td>Toy Story (1995)</td>\n",
       "      <td>Adventure|Animation|Children|Comedy|Fantasy</td>\n",
       "    </tr>\n",
       "    <tr>\n",
       "      <th>1</th>\n",
       "      <td>2</td>\n",
       "      <td>Jumanji (1995)</td>\n",
       "      <td>Adventure|Children|Fantasy</td>\n",
       "    </tr>\n",
       "    <tr>\n",
       "      <th>2</th>\n",
       "      <td>3</td>\n",
       "      <td>Grumpier Old Men (1995)</td>\n",
       "      <td>Comedy|Romance</td>\n",
       "    </tr>\n",
       "    <tr>\n",
       "      <th>3</th>\n",
       "      <td>4</td>\n",
       "      <td>Waiting to Exhale (1995)</td>\n",
       "      <td>Comedy|Drama|Romance</td>\n",
       "    </tr>\n",
       "    <tr>\n",
       "      <th>4</th>\n",
       "      <td>5</td>\n",
       "      <td>Father of the Bride Part II (1995)</td>\n",
       "      <td>Comedy</td>\n",
       "    </tr>\n",
       "  </tbody>\n",
       "</table>\n",
       "</div>"
      ],
      "text/plain": [
       "   movieId                               title  \\\n",
       "0        1                    Toy Story (1995)   \n",
       "1        2                      Jumanji (1995)   \n",
       "2        3             Grumpier Old Men (1995)   \n",
       "3        4            Waiting to Exhale (1995)   \n",
       "4        5  Father of the Bride Part II (1995)   \n",
       "\n",
       "                                        genres  \n",
       "0  Adventure|Animation|Children|Comedy|Fantasy  \n",
       "1                   Adventure|Children|Fantasy  \n",
       "2                               Comedy|Romance  \n",
       "3                         Comedy|Drama|Romance  \n",
       "4                                       Comedy  "
      ]
     },
     "execution_count": 81,
     "metadata": {},
     "output_type": "execute_result"
    }
   ],
   "source": [
    "movies = pd.read_csv(path+'movies.csv')\n",
    "movies.head()"
   ]
  },
  {
   "cell_type": "markdown",
   "metadata": {
    "heading_collapsed": true
   },
   "source": [
    "## Create subset for Excel"
   ]
  },
  {
   "cell_type": "markdown",
   "metadata": {
    "hidden": true
   },
   "source": [
    "We create a crosstab of the most popular movies and most movie-addicted users which we'll copy into Excel for creating a simple example. This isn't necessary for any of the modeling below however."
   ]
  },
  {
   "cell_type": "code",
   "execution_count": 82,
   "metadata": {
    "hidden": true
   },
   "outputs": [
    {
     "data": {
      "text/html": [
       "<div>\n",
       "<style>\n",
       "    .dataframe thead tr:only-child th {\n",
       "        text-align: right;\n",
       "    }\n",
       "\n",
       "    .dataframe thead th {\n",
       "        text-align: left;\n",
       "    }\n",
       "\n",
       "    .dataframe tbody tr th {\n",
       "        vertical-align: top;\n",
       "    }\n",
       "</style>\n",
       "<table border=\"1\" class=\"dataframe\">\n",
       "  <thead>\n",
       "    <tr style=\"text-align: right;\">\n",
       "      <th>movieId</th>\n",
       "      <th>1</th>\n",
       "      <th>110</th>\n",
       "      <th>260</th>\n",
       "      <th>296</th>\n",
       "      <th>318</th>\n",
       "      <th>356</th>\n",
       "      <th>480</th>\n",
       "      <th>527</th>\n",
       "      <th>589</th>\n",
       "      <th>593</th>\n",
       "      <th>608</th>\n",
       "      <th>1196</th>\n",
       "      <th>1198</th>\n",
       "      <th>1270</th>\n",
       "      <th>2571</th>\n",
       "    </tr>\n",
       "    <tr>\n",
       "      <th>userId</th>\n",
       "      <th></th>\n",
       "      <th></th>\n",
       "      <th></th>\n",
       "      <th></th>\n",
       "      <th></th>\n",
       "      <th></th>\n",
       "      <th></th>\n",
       "      <th></th>\n",
       "      <th></th>\n",
       "      <th></th>\n",
       "      <th></th>\n",
       "      <th></th>\n",
       "      <th></th>\n",
       "      <th></th>\n",
       "      <th></th>\n",
       "    </tr>\n",
       "  </thead>\n",
       "  <tbody>\n",
       "    <tr>\n",
       "      <th>15</th>\n",
       "      <td>2.0</td>\n",
       "      <td>3.0</td>\n",
       "      <td>5.0</td>\n",
       "      <td>5.0</td>\n",
       "      <td>2.0</td>\n",
       "      <td>1.0</td>\n",
       "      <td>3.0</td>\n",
       "      <td>4.0</td>\n",
       "      <td>4.0</td>\n",
       "      <td>5.0</td>\n",
       "      <td>5.0</td>\n",
       "      <td>5.0</td>\n",
       "      <td>4.0</td>\n",
       "      <td>5.0</td>\n",
       "      <td>5.0</td>\n",
       "    </tr>\n",
       "    <tr>\n",
       "      <th>30</th>\n",
       "      <td>4.0</td>\n",
       "      <td>5.0</td>\n",
       "      <td>4.0</td>\n",
       "      <td>5.0</td>\n",
       "      <td>5.0</td>\n",
       "      <td>5.0</td>\n",
       "      <td>4.0</td>\n",
       "      <td>5.0</td>\n",
       "      <td>4.0</td>\n",
       "      <td>4.0</td>\n",
       "      <td>5.0</td>\n",
       "      <td>4.0</td>\n",
       "      <td>5.0</td>\n",
       "      <td>5.0</td>\n",
       "      <td>3.0</td>\n",
       "    </tr>\n",
       "    <tr>\n",
       "      <th>73</th>\n",
       "      <td>5.0</td>\n",
       "      <td>4.0</td>\n",
       "      <td>4.5</td>\n",
       "      <td>5.0</td>\n",
       "      <td>5.0</td>\n",
       "      <td>5.0</td>\n",
       "      <td>4.0</td>\n",
       "      <td>5.0</td>\n",
       "      <td>3.0</td>\n",
       "      <td>4.5</td>\n",
       "      <td>4.0</td>\n",
       "      <td>5.0</td>\n",
       "      <td>5.0</td>\n",
       "      <td>5.0</td>\n",
       "      <td>4.5</td>\n",
       "    </tr>\n",
       "    <tr>\n",
       "      <th>212</th>\n",
       "      <td>3.0</td>\n",
       "      <td>5.0</td>\n",
       "      <td>4.0</td>\n",
       "      <td>4.0</td>\n",
       "      <td>4.5</td>\n",
       "      <td>4.0</td>\n",
       "      <td>3.0</td>\n",
       "      <td>5.0</td>\n",
       "      <td>3.0</td>\n",
       "      <td>4.0</td>\n",
       "      <td>NaN</td>\n",
       "      <td>NaN</td>\n",
       "      <td>3.0</td>\n",
       "      <td>3.0</td>\n",
       "      <td>5.0</td>\n",
       "    </tr>\n",
       "    <tr>\n",
       "      <th>213</th>\n",
       "      <td>3.0</td>\n",
       "      <td>2.5</td>\n",
       "      <td>5.0</td>\n",
       "      <td>NaN</td>\n",
       "      <td>NaN</td>\n",
       "      <td>2.0</td>\n",
       "      <td>5.0</td>\n",
       "      <td>NaN</td>\n",
       "      <td>4.0</td>\n",
       "      <td>2.5</td>\n",
       "      <td>2.0</td>\n",
       "      <td>5.0</td>\n",
       "      <td>3.0</td>\n",
       "      <td>3.0</td>\n",
       "      <td>4.0</td>\n",
       "    </tr>\n",
       "    <tr>\n",
       "      <th>294</th>\n",
       "      <td>4.0</td>\n",
       "      <td>3.0</td>\n",
       "      <td>4.0</td>\n",
       "      <td>NaN</td>\n",
       "      <td>3.0</td>\n",
       "      <td>4.0</td>\n",
       "      <td>4.0</td>\n",
       "      <td>4.0</td>\n",
       "      <td>3.0</td>\n",
       "      <td>NaN</td>\n",
       "      <td>NaN</td>\n",
       "      <td>4.0</td>\n",
       "      <td>4.5</td>\n",
       "      <td>4.0</td>\n",
       "      <td>4.5</td>\n",
       "    </tr>\n",
       "    <tr>\n",
       "      <th>311</th>\n",
       "      <td>3.0</td>\n",
       "      <td>3.0</td>\n",
       "      <td>4.0</td>\n",
       "      <td>3.0</td>\n",
       "      <td>4.5</td>\n",
       "      <td>5.0</td>\n",
       "      <td>4.5</td>\n",
       "      <td>5.0</td>\n",
       "      <td>4.5</td>\n",
       "      <td>2.0</td>\n",
       "      <td>4.0</td>\n",
       "      <td>3.0</td>\n",
       "      <td>4.5</td>\n",
       "      <td>4.5</td>\n",
       "      <td>4.0</td>\n",
       "    </tr>\n",
       "    <tr>\n",
       "      <th>380</th>\n",
       "      <td>4.0</td>\n",
       "      <td>5.0</td>\n",
       "      <td>4.0</td>\n",
       "      <td>5.0</td>\n",
       "      <td>4.0</td>\n",
       "      <td>5.0</td>\n",
       "      <td>4.0</td>\n",
       "      <td>NaN</td>\n",
       "      <td>4.0</td>\n",
       "      <td>5.0</td>\n",
       "      <td>4.0</td>\n",
       "      <td>4.0</td>\n",
       "      <td>NaN</td>\n",
       "      <td>3.0</td>\n",
       "      <td>5.0</td>\n",
       "    </tr>\n",
       "    <tr>\n",
       "      <th>452</th>\n",
       "      <td>3.5</td>\n",
       "      <td>4.0</td>\n",
       "      <td>4.0</td>\n",
       "      <td>5.0</td>\n",
       "      <td>5.0</td>\n",
       "      <td>4.0</td>\n",
       "      <td>5.0</td>\n",
       "      <td>4.0</td>\n",
       "      <td>4.0</td>\n",
       "      <td>5.0</td>\n",
       "      <td>5.0</td>\n",
       "      <td>4.0</td>\n",
       "      <td>4.0</td>\n",
       "      <td>4.0</td>\n",
       "      <td>2.0</td>\n",
       "    </tr>\n",
       "    <tr>\n",
       "      <th>468</th>\n",
       "      <td>4.0</td>\n",
       "      <td>3.0</td>\n",
       "      <td>3.5</td>\n",
       "      <td>3.5</td>\n",
       "      <td>3.5</td>\n",
       "      <td>3.0</td>\n",
       "      <td>2.5</td>\n",
       "      <td>NaN</td>\n",
       "      <td>NaN</td>\n",
       "      <td>3.0</td>\n",
       "      <td>4.0</td>\n",
       "      <td>3.0</td>\n",
       "      <td>3.5</td>\n",
       "      <td>3.0</td>\n",
       "      <td>3.0</td>\n",
       "    </tr>\n",
       "    <tr>\n",
       "      <th>509</th>\n",
       "      <td>3.0</td>\n",
       "      <td>5.0</td>\n",
       "      <td>5.0</td>\n",
       "      <td>5.0</td>\n",
       "      <td>4.0</td>\n",
       "      <td>4.0</td>\n",
       "      <td>3.0</td>\n",
       "      <td>5.0</td>\n",
       "      <td>2.0</td>\n",
       "      <td>4.0</td>\n",
       "      <td>4.5</td>\n",
       "      <td>5.0</td>\n",
       "      <td>5.0</td>\n",
       "      <td>3.0</td>\n",
       "      <td>4.5</td>\n",
       "    </tr>\n",
       "    <tr>\n",
       "      <th>547</th>\n",
       "      <td>3.5</td>\n",
       "      <td>NaN</td>\n",
       "      <td>NaN</td>\n",
       "      <td>5.0</td>\n",
       "      <td>5.0</td>\n",
       "      <td>2.0</td>\n",
       "      <td>3.0</td>\n",
       "      <td>5.0</td>\n",
       "      <td>NaN</td>\n",
       "      <td>5.0</td>\n",
       "      <td>5.0</td>\n",
       "      <td>2.5</td>\n",
       "      <td>2.0</td>\n",
       "      <td>3.5</td>\n",
       "      <td>3.5</td>\n",
       "    </tr>\n",
       "    <tr>\n",
       "      <th>564</th>\n",
       "      <td>4.0</td>\n",
       "      <td>1.0</td>\n",
       "      <td>2.0</td>\n",
       "      <td>5.0</td>\n",
       "      <td>NaN</td>\n",
       "      <td>3.0</td>\n",
       "      <td>5.0</td>\n",
       "      <td>4.0</td>\n",
       "      <td>5.0</td>\n",
       "      <td>5.0</td>\n",
       "      <td>5.0</td>\n",
       "      <td>5.0</td>\n",
       "      <td>5.0</td>\n",
       "      <td>3.0</td>\n",
       "      <td>3.0</td>\n",
       "    </tr>\n",
       "    <tr>\n",
       "      <th>580</th>\n",
       "      <td>4.0</td>\n",
       "      <td>4.5</td>\n",
       "      <td>4.0</td>\n",
       "      <td>4.5</td>\n",
       "      <td>4.0</td>\n",
       "      <td>3.5</td>\n",
       "      <td>3.0</td>\n",
       "      <td>4.0</td>\n",
       "      <td>4.5</td>\n",
       "      <td>4.0</td>\n",
       "      <td>4.5</td>\n",
       "      <td>4.0</td>\n",
       "      <td>3.5</td>\n",
       "      <td>3.0</td>\n",
       "      <td>4.5</td>\n",
       "    </tr>\n",
       "    <tr>\n",
       "      <th>624</th>\n",
       "      <td>5.0</td>\n",
       "      <td>NaN</td>\n",
       "      <td>5.0</td>\n",
       "      <td>5.0</td>\n",
       "      <td>NaN</td>\n",
       "      <td>3.0</td>\n",
       "      <td>3.0</td>\n",
       "      <td>NaN</td>\n",
       "      <td>3.0</td>\n",
       "      <td>5.0</td>\n",
       "      <td>4.0</td>\n",
       "      <td>5.0</td>\n",
       "      <td>5.0</td>\n",
       "      <td>5.0</td>\n",
       "      <td>2.0</td>\n",
       "    </tr>\n",
       "  </tbody>\n",
       "</table>\n",
       "</div>"
      ],
      "text/plain": [
       "movieId  1     110   260   296   318   356   480   527   589   593   608   \\\n",
       "userId                                                                      \n",
       "15        2.0   3.0   5.0   5.0   2.0   1.0   3.0   4.0   4.0   5.0   5.0   \n",
       "30        4.0   5.0   4.0   5.0   5.0   5.0   4.0   5.0   4.0   4.0   5.0   \n",
       "73        5.0   4.0   4.5   5.0   5.0   5.0   4.0   5.0   3.0   4.5   4.0   \n",
       "212       3.0   5.0   4.0   4.0   4.5   4.0   3.0   5.0   3.0   4.0   NaN   \n",
       "213       3.0   2.5   5.0   NaN   NaN   2.0   5.0   NaN   4.0   2.5   2.0   \n",
       "294       4.0   3.0   4.0   NaN   3.0   4.0   4.0   4.0   3.0   NaN   NaN   \n",
       "311       3.0   3.0   4.0   3.0   4.5   5.0   4.5   5.0   4.5   2.0   4.0   \n",
       "380       4.0   5.0   4.0   5.0   4.0   5.0   4.0   NaN   4.0   5.0   4.0   \n",
       "452       3.5   4.0   4.0   5.0   5.0   4.0   5.0   4.0   4.0   5.0   5.0   \n",
       "468       4.0   3.0   3.5   3.5   3.5   3.0   2.5   NaN   NaN   3.0   4.0   \n",
       "509       3.0   5.0   5.0   5.0   4.0   4.0   3.0   5.0   2.0   4.0   4.5   \n",
       "547       3.5   NaN   NaN   5.0   5.0   2.0   3.0   5.0   NaN   5.0   5.0   \n",
       "564       4.0   1.0   2.0   5.0   NaN   3.0   5.0   4.0   5.0   5.0   5.0   \n",
       "580       4.0   4.5   4.0   4.5   4.0   3.5   3.0   4.0   4.5   4.0   4.5   \n",
       "624       5.0   NaN   5.0   5.0   NaN   3.0   3.0   NaN   3.0   5.0   4.0   \n",
       "\n",
       "movieId  1196  1198  1270  2571  \n",
       "userId                           \n",
       "15        5.0   4.0   5.0   5.0  \n",
       "30        4.0   5.0   5.0   3.0  \n",
       "73        5.0   5.0   5.0   4.5  \n",
       "212       NaN   3.0   3.0   5.0  \n",
       "213       5.0   3.0   3.0   4.0  \n",
       "294       4.0   4.5   4.0   4.5  \n",
       "311       3.0   4.5   4.5   4.0  \n",
       "380       4.0   NaN   3.0   5.0  \n",
       "452       4.0   4.0   4.0   2.0  \n",
       "468       3.0   3.5   3.0   3.0  \n",
       "509       5.0   5.0   3.0   4.5  \n",
       "547       2.5   2.0   3.5   3.5  \n",
       "564       5.0   5.0   3.0   3.0  \n",
       "580       4.0   3.5   3.0   4.5  \n",
       "624       5.0   5.0   5.0   2.0  "
      ]
     },
     "execution_count": 82,
     "metadata": {},
     "output_type": "execute_result"
    }
   ],
   "source": [
    "g=ratings.groupby('userId')['rating'].count()\n",
    "topUsers=g.sort_values(ascending=False)[:15]\n",
    "\n",
    "g=ratings.groupby('movieId')['rating'].count()\n",
    "topMovies=g.sort_values(ascending=False)[:15]\n",
    "\n",
    "top_r = ratings.join(topUsers, rsuffix='_r', how='inner', on='userId')\n",
    "top_r = top_r.join(topMovies, rsuffix='_r', how='inner', on='movieId')\n",
    "\n",
    "pd.crosstab(top_r.userId, top_r.movieId, top_r.rating, aggfunc=np.sum)"
   ]
  },
  {
   "cell_type": "markdown",
   "metadata": {
    "heading_collapsed": true
   },
   "source": [
    "## Collaborative filtering"
   ]
  },
  {
   "cell_type": "code",
   "execution_count": 83,
   "metadata": {
    "collapsed": true,
    "hidden": true
   },
   "outputs": [],
   "source": [
    "val_idxs = get_cv_idxs(len(ratings))\n",
    "wd=2e-4\n",
    "n_factors = 50"
   ]
  },
  {
   "cell_type": "code",
   "execution_count": 84,
   "metadata": {
    "collapsed": true,
    "hidden": true
   },
   "outputs": [],
   "source": [
    "cf = CollabFilterDataset.from_csv(path, 'ratings.csv', 'userId', 'movieId', 'rating')\n",
    "learn = cf.get_learner(n_factors, val_idxs, 64, opt_fn=optim.Adam)"
   ]
  },
  {
   "cell_type": "code",
   "execution_count": 85,
   "metadata": {
    "hidden": true,
    "scrolled": false
   },
   "outputs": [
    {
     "data": {
      "application/vnd.jupyter.widget-view+json": {
       "model_id": "ff90a8f3c819418090d3f9e89d2c89c9",
       "version_major": 2,
       "version_minor": 0
      },
      "text/plain": [
       "A Jupyter Widget"
      ]
     },
     "metadata": {},
     "output_type": "display_data"
    },
    {
     "name": "stdout",
     "output_type": "stream",
     "text": [
      "epoch      trn_loss   val_loss                                  \n",
      "    0      0.809903   0.807783  \n",
      "    1      0.795493   0.781864                                  \n",
      "    2      0.58795    0.767998                                  \n",
      "\n"
     ]
    },
    {
     "data": {
      "text/plain": [
       "[0.767997774219513]"
      ]
     },
     "execution_count": 85,
     "metadata": {},
     "output_type": "execute_result"
    }
   ],
   "source": [
    "learn.fit(1e-2, 2, wds=wd, cycle_len=1, cycle_mult=2)"
   ]
  },
  {
   "cell_type": "markdown",
   "metadata": {
    "hidden": true
   },
   "source": [
    "Let's compare to some benchmarks. Here's [some benchmarks](https://www.librec.net/release/v1.3/example.html) on the same dataset for the popular Librec system for collaborative filtering. They show best results based on [RMSE](http://www.statisticshowto.com/rmse/) of 0.91. We'll need to take the square root of our loss, since we use plain MSE."
   ]
  },
  {
   "cell_type": "code",
   "execution_count": 9,
   "metadata": {
    "hidden": true
   },
   "outputs": [
    {
     "data": {
      "text/plain": [
       "0.8763560920082658"
      ]
     },
     "execution_count": 9,
     "metadata": {},
     "output_type": "execute_result"
    }
   ],
   "source": [
    "math.sqrt(0.768)"
   ]
  },
  {
   "cell_type": "markdown",
   "metadata": {
    "hidden": true
   },
   "source": [
    "Looking good - we've found a solution better than any of those benchmarks! Let's take a look at how the predictions compare to actuals for this model."
   ]
  },
  {
   "cell_type": "code",
   "execution_count": 86,
   "metadata": {
    "collapsed": true,
    "hidden": true
   },
   "outputs": [],
   "source": [
    "preds = learn.predict()"
   ]
  },
  {
   "cell_type": "code",
   "execution_count": 87,
   "metadata": {
    "hidden": true
   },
   "outputs": [
    {
     "data": {
      "image/png": "[encoded data removed]",
      "text/plain": [
       "<matplotlib.figure.Figure at 0x7f5735165860>"
      ]
     },
     "metadata": {},
     "output_type": "display_data"
    }
   ],
   "source": [
    "y=learn.data.val_y\n",
    "sns.jointplot(preds, y, kind='hex', stat_func=None);"
   ]
  },
  {
   "cell_type": "markdown",
   "metadata": {},
   "source": [
    "## Analyze results"
   ]
  },
  {
   "cell_type": "markdown",
   "metadata": {
    "heading_collapsed": true
   },
   "source": [
    "### Movie bias"
   ]
  },
  {
   "cell_type": "code",
   "execution_count": 88,
   "metadata": {
    "collapsed": true,
    "hidden": true
   },
   "outputs": [],
   "source": [
    "movie_names = movies.set_index('movieId')['title'].to_dict()\n",
    "g=ratings.groupby('movieId')['rating'].count()\n",
    "topMovies=g.sort_values(ascending=False).index.values[:3000]\n",
    "topMovieIdx = np.array([cf.item2idx[o] for o in topMovies])"
   ]
  },
  {
   "cell_type": "code",
   "execution_count": 89,
   "metadata": {
    "hidden": true
   },
   "outputs": [
    {
     "data": {
      "text/plain": [
       "EmbeddingDotBias(\n",
       "  (u): Embedding(671, 50)\n",
       "  (i): Embedding(9066, 50)\n",
       "  (ub): Embedding(671, 1)\n",
       "  (ib): Embedding(9066, 1)\n",
       ")"
      ]
     },
     "execution_count": 89,
     "metadata": {},
     "output_type": "execute_result"
    }
   ],
   "source": [
    "m=learn.model; m.cuda()"
   ]
  },
  {
   "cell_type": "markdown",
   "metadata": {
    "hidden": true
   },
   "source": [
    "First, we'll look at the movie bias term. Here, our input is the movie id (a single id), and the output is the movie bias (a single float)."
   ]
  },
  {
   "cell_type": "code",
   "execution_count": 15,
   "metadata": {
    "collapsed": true,
    "hidden": true
   },
   "outputs": [],
   "source": [
    "movie_bias = to_np(m.ib(V(topMovieIdx)))"
   ]
  },
  {
   "cell_type": "code",
   "execution_count": 16,
   "metadata": {
    "hidden": true
   },
   "outputs": [
    {
     "data": {
      "text/plain": [
       "array([[0.82575],\n",
       "       [0.97127],\n",
       "       [1.31398],\n",
       "       ...,\n",
       "       [0.32974],\n",
       "       [0.03886],\n",
       "       [0.16744]], dtype=float32)"
      ]
     },
     "execution_count": 16,
     "metadata": {},
     "output_type": "execute_result"
    }
   ],
   "source": [
    "movie_bias"
   ]
  },
  {
   "cell_type": "code",
   "execution_count": 17,
   "metadata": {
    "collapsed": true,
    "hidden": true
   },
   "outputs": [],
   "source": [
    "movie_ratings = [(b[0], movie_names[i]) for i,b in zip(topMovies,movie_bias)]"
   ]
  },
  {
   "cell_type": "markdown",
   "metadata": {
    "hidden": true
   },
   "source": [
    "Now we can look at the top and bottom rated movies. These ratings are corrected for different levels of reviewer sentiment, as well as different types of movies that different reviewers watch."
   ]
  },
  {
   "cell_type": "code",
   "execution_count": 18,
   "metadata": {
    "hidden": true
   },
   "outputs": [
    {
     "data": {
      "text/plain": [
       "[(-0.914487, 'Battlefield Earth (2000)'),\n",
       " (-0.74318004, 'Speed 2: Cruise Control (1997)'),\n",
       " (-0.7169711, 'Wild Wild West (1999)'),\n",
       " (-0.69821966, 'Super Mario Bros. (1993)'),\n",
       " (-0.69475657, 'Anaconda (1997)'),\n",
       " (-0.6408861, 'Mighty Morphin Power Rangers: The Movie (1995)'),\n",
       " (-0.6398248, 'Inspector Gadget (1999)'),\n",
       " (-0.62747866, 'Flintstones, The (1994)'),\n",
       " (-0.607285, 'Congo (1995)'),\n",
       " (-0.6043957, 'Haunting, The (1999)'),\n",
       " (-0.60006714, 'Karate Kid, Part III, The (1989)'),\n",
       " (-0.5806055, 'Avengers, The (1998)'),\n",
       " (-0.5790544, 'Dungeons & Dragons (2000)'),\n",
       " (-0.57736504, 'Jaws 3-D (1983)'),\n",
       " (-0.57587194, 'Police Academy 4: Citizens on Patrol (1987)')]"
      ]
     },
     "execution_count": 18,
     "metadata": {},
     "output_type": "execute_result"
    }
   ],
   "source": [
    "sorted(movie_ratings, key=lambda o: o[0])[:15]"
   ]
  },
  {
   "cell_type": "code",
   "execution_count": 19,
   "metadata": {
    "hidden": true
   },
   "outputs": [
    {
     "data": {
      "text/plain": [
       "[(-0.914487, 'Battlefield Earth (2000)'),\n",
       " (-0.74318004, 'Speed 2: Cruise Control (1997)'),\n",
       " (-0.7169711, 'Wild Wild West (1999)'),\n",
       " (-0.69821966, 'Super Mario Bros. (1993)'),\n",
       " (-0.69475657, 'Anaconda (1997)'),\n",
       " (-0.6408861, 'Mighty Morphin Power Rangers: The Movie (1995)'),\n",
       " (-0.6398248, 'Inspector Gadget (1999)'),\n",
       " (-0.62747866, 'Flintstones, The (1994)'),\n",
       " (-0.607285, 'Congo (1995)'),\n",
       " (-0.6043957, 'Haunting, The (1999)'),\n",
       " (-0.60006714, 'Karate Kid, Part III, The (1989)'),\n",
       " (-0.5806055, 'Avengers, The (1998)'),\n",
       " (-0.5790544, 'Dungeons & Dragons (2000)'),\n",
       " (-0.57736504, 'Jaws 3-D (1983)'),\n",
       " (-0.57587194, 'Police Academy 4: Citizens on Patrol (1987)')]"
      ]
     },
     "execution_count": 19,
     "metadata": {},
     "output_type": "execute_result"
    }
   ],
   "source": [
    "sorted(movie_ratings, key=itemgetter(0))[:15]"
   ]
  },
  {
   "cell_type": "code",
   "execution_count": 20,
   "metadata": {
    "hidden": true
   },
   "outputs": [
    {
     "data": {
      "text/plain": [
       "[(1.3139778, 'Shawshank Redemption, The (1994)'),\n",
       " (1.1446236, 'Godfather, The (1972)'),\n",
       " (1.0800053, 'Usual Suspects, The (1995)'),\n",
       " (1.0003818, \"Schindler's List (1993)\"),\n",
       " (0.9712748, 'Pulp Fiction (1994)'),\n",
       " (0.9239458, 'To Kill a Mockingbird (1962)'),\n",
       " (0.9057478, 'Godfather: Part II, The (1974)'),\n",
       " (0.90065944, '12 Angry Men (1957)'),\n",
       " (0.8783233, 'Fargo (1996)'),\n",
       " (0.8720551, 'Silence of the Lambs, The (1991)'),\n",
       " (0.846513, 'Star Wars: Episode IV - A New Hope (1977)'),\n",
       " (0.8446781, 'Star Wars: Episode V - The Empire Strikes Back (1980)'),\n",
       " (0.8413634, 'American Beauty (1999)'),\n",
       " (0.8331065, 'Matrix, The (1999)'),\n",
       " (0.832712, 'North by Northwest (1959)')]"
      ]
     },
     "execution_count": 20,
     "metadata": {},
     "output_type": "execute_result"
    }
   ],
   "source": [
    "sorted(movie_ratings, key=lambda o: o[0], reverse=True)[:15]"
   ]
  },
  {
   "cell_type": "markdown",
   "metadata": {
    "heading_collapsed": true
   },
   "source": [
    "### Embedding interpretation"
   ]
  },
  {
   "cell_type": "markdown",
   "metadata": {
    "hidden": true
   },
   "source": [
    "We can now do the same thing for the embeddings."
   ]
  },
  {
   "cell_type": "code",
   "execution_count": 21,
   "metadata": {
    "hidden": true
   },
   "outputs": [
    {
     "data": {
      "text/plain": [
       "(3000, 50)"
      ]
     },
     "execution_count": 21,
     "metadata": {},
     "output_type": "execute_result"
    }
   ],
   "source": [
    "movie_emb = to_np(m.i(V(topMovieIdx)))\n",
    "movie_emb.shape"
   ]
  },
  {
   "cell_type": "markdown",
   "metadata": {
    "hidden": true
   },
   "source": [
    "Because it's hard to interpret 50 embeddings, we use [PCA](https://plot.ly/ipython-notebooks/principal-component-analysis/) to simplify them down to just 3 vectors. "
   ]
  },
  {
   "cell_type": "code",
   "execution_count": 22,
   "metadata": {
    "collapsed": true,
    "hidden": true
   },
   "outputs": [],
   "source": [
    "from sklearn.decomposition import PCA\n",
    "pca = PCA(n_components=3)\n",
    "movie_pca = pca.fit(movie_emb.T).components_"
   ]
  },
  {
   "cell_type": "code",
   "execution_count": 23,
   "metadata": {
    "hidden": true
   },
   "outputs": [
    {
     "data": {
      "text/plain": [
       "(3, 3000)"
      ]
     },
     "execution_count": 23,
     "metadata": {},
     "output_type": "execute_result"
    }
   ],
   "source": [
    "movie_pca.shape"
   ]
  },
  {
   "cell_type": "code",
   "execution_count": 24,
   "metadata": {
    "collapsed": true,
    "hidden": true
   },
   "outputs": [],
   "source": [
    "fac0 = movie_pca[0]\n",
    "movie_comp = [(f, movie_names[i]) for f,i in zip(fac0, topMovies)]"
   ]
  },
  {
   "cell_type": "markdown",
   "metadata": {
    "hidden": true
   },
   "source": [
    "Here's the 1st component. It seems to be 'easy watching' vs 'serious'."
   ]
  },
  {
   "cell_type": "code",
   "execution_count": 25,
   "metadata": {
    "hidden": true
   },
   "outputs": [
    {
     "data": {
      "text/plain": [
       "[(0.07547401, 'Fargo (1996)'),\n",
       " (0.07219769, 'Kill Bill: Vol. 1 (2003)'),\n",
       " (0.071951486, 'Chinatown (1974)'),\n",
       " (0.070021376, 'Taxi Driver (1976)'),\n",
       " (0.069815524, 'Godfather, The (1972)'),\n",
       " (0.068919234, 'Network (1976)'),\n",
       " (0.064207725, 'Pulp Fiction (1994)'),\n",
       " (0.06390307,\n",
       "  'Dr. Strangelove or: How I Learned to Stop Worrying and Love the Bomb (1964)'),\n",
       " (0.063619755, '2001: A Space Odyssey (1968)'),\n",
       " (0.06299246, 'Apocalypse Now (1979)')]"
      ]
     },
     "execution_count": 25,
     "metadata": {},
     "output_type": "execute_result"
    }
   ],
   "source": [
    "sorted(movie_comp, key=itemgetter(0), reverse=True)[:10]"
   ]
  },
  {
   "cell_type": "code",
   "execution_count": 26,
   "metadata": {
    "hidden": true
   },
   "outputs": [
    {
     "data": {
      "text/plain": [
       "[(-0.075908005, 'Armageddon (1998)'),\n",
       " (-0.062371466, 'Independence Day (a.k.a. ID4) (1996)'),\n",
       " (-0.055271678, 'Batman Forever (1995)'),\n",
       " (-0.054542195, 'Police Academy 5: Assignment: Miami Beach (1988)'),\n",
       " (-0.054540377, 'Mission: Impossible II (2000)'),\n",
       " (-0.05268937, 'Outbreak (1995)'),\n",
       " (-0.051817846, 'Coyote Ugly (2000)'),\n",
       " (-0.051183797, 'Bio-Dome (1996)'),\n",
       " (-0.049815383, 'Psycho (1998)'),\n",
       " (-0.049426857, 'Grumpier Old Men (1995)')]"
      ]
     },
     "execution_count": 26,
     "metadata": {},
     "output_type": "execute_result"
    }
   ],
   "source": [
    "sorted(movie_comp, key=itemgetter(0))[:10]"
   ]
  },
  {
   "cell_type": "code",
   "execution_count": 27,
   "metadata": {
    "collapsed": true,
    "hidden": true
   },
   "outputs": [],
   "source": [
    "fac1 = movie_pca[1]\n",
    "movie_comp = [(f, movie_names[i]) for f,i in zip(fac1, topMovies)]"
   ]
  },
  {
   "cell_type": "markdown",
   "metadata": {
    "hidden": true
   },
   "source": [
    "Here's the 2nd component. It seems to be 'CGI' vs 'dialog driven'."
   ]
  },
  {
   "cell_type": "code",
   "execution_count": 28,
   "metadata": {
    "hidden": true
   },
   "outputs": [
    {
     "data": {
      "text/plain": [
       "[(0.06340686, '8 1/2 (8½) (1963)'),\n",
       " (0.04976317, 'Gosford Park (2001)'),\n",
       " (0.048386592, 'Space Jam (1996)'),\n",
       " (0.046253785, 'Bend It Like Beckham (2002)'),\n",
       " (0.046022974, 'Doors, The (1991)'),\n",
       " (0.045653537, 'Anaconda (1997)'),\n",
       " (0.044171885, 'Dick Tracy (1990)'),\n",
       " (0.043478515, 'Judge Dredd (1995)'),\n",
       " (0.043297447, 'From Hell (2001)'),\n",
       " (0.04317659, 'Postman, The (Postino, Il) (1994)')]"
      ]
     },
     "execution_count": 28,
     "metadata": {},
     "output_type": "execute_result"
    }
   ],
   "source": [
    "sorted(movie_comp, key=itemgetter(0), reverse=True)[:10]"
   ]
  },
  {
   "cell_type": "code",
   "execution_count": 29,
   "metadata": {
    "hidden": true
   },
   "outputs": [
    {
     "data": {
      "text/plain": [
       "[(-0.10263303, 'Jurassic Park (1993)'),\n",
       " (-0.10205969,\n",
       "  'Raiders of the Lost Ark (Indiana Jones and the Raiders of the Lost Ark) (1981)'),\n",
       " (-0.102038324, 'Star Wars: Episode VI - Return of the Jedi (1983)'),\n",
       " (-0.08970032, 'Star Wars: Episode IV - A New Hope (1977)'),\n",
       " (-0.087637804, 'Dark Knight, The (2008)'),\n",
       " (-0.0869132, 'Lord of the Rings: The Two Towers, The (2002)'),\n",
       " (-0.08562384, 'X-Men (2000)'),\n",
       " (-0.08269079, 'Lethal Weapon (1987)'),\n",
       " (-0.081318915, 'Forrest Gump (1994)'),\n",
       " (-0.078577206, 'Die Hard (1988)')]"
      ]
     },
     "execution_count": 29,
     "metadata": {},
     "output_type": "execute_result"
    }
   ],
   "source": [
    "sorted(movie_comp, key=itemgetter(0))[:10]"
   ]
  },
  {
   "cell_type": "markdown",
   "metadata": {
    "hidden": true
   },
   "source": [
    "We can draw a picture to see how various movies appear on the map of these components. This picture shows the first two components."
   ]
  },
  {
   "cell_type": "code",
   "execution_count": 30,
   "metadata": {
    "hidden": true,
    "scrolled": false
   },
   "outputs": [
    {
     "data": {
      "image/png": "[encoded data removed]",
      "text/plain": [
       "<matplotlib.figure.Figure at 0x7f575c9d87b8>"
      ]
     },
     "metadata": {},
     "output_type": "display_data"
    }
   ],
   "source": [
    "idxs = np.random.choice(len(topMovies), 50, replace=False)\n",
    "X = fac0[idxs]\n",
    "Y = fac1[idxs]\n",
    "plt.figure(figsize=(15,15))\n",
    "plt.scatter(X, Y)\n",
    "for i, x, y in zip(topMovies[idxs], X, Y):\n",
    "    plt.text(x,y,movie_names[i], color=np.random.rand(3)*0.7, fontsize=11)\n",
    "plt.show()"
   ]
  },
  {
   "cell_type": "markdown",
   "metadata": {},
   "source": [
    "## Collab filtering from scratch"
   ]
  },
  {
   "cell_type": "markdown",
   "metadata": {
    "heading_collapsed": true
   },
   "source": [
    "### Dot product example"
   ]
  },
  {
   "cell_type": "code",
   "execution_count": 31,
   "metadata": {
    "hidden": true
   },
   "outputs": [
    {
     "data": {
      "text/plain": [
       "(tensor([[ 1.,  2.],\n",
       "         [ 3.,  4.]], device='cuda:0'), tensor([[  2.,   2.],\n",
       "         [ 10.,  10.]], device='cuda:0'))"
      ]
     },
     "execution_count": 31,
     "metadata": {},
     "output_type": "execute_result"
    }
   ],
   "source": [
    "a = T([[1.,2],[3,4]])\n",
    "b = T([[2.,2],[10,10]])\n",
    "a,b"
   ]
  },
  {
   "cell_type": "code",
   "execution_count": 32,
   "metadata": {
    "hidden": true
   },
   "outputs": [
    {
     "data": {
      "text/plain": [
       "tensor([[  2.,   4.],\n",
       "        [ 30.,  40.]], device='cuda:0')"
      ]
     },
     "execution_count": 32,
     "metadata": {},
     "output_type": "execute_result"
    }
   ],
   "source": [
    "a*b"
   ]
  },
  {
   "cell_type": "code",
   "execution_count": 166,
   "metadata": {
    "hidden": true
   },
   "outputs": [
    {
     "data": {
      "text/plain": [
       "tensor([  6.,  70.], device='cuda:0')"
      ]
     },
     "execution_count": 166,
     "metadata": {},
     "output_type": "execute_result"
    }
   ],
   "source": [
    "(a*b).sum(1)"
   ]
  },
  {
   "cell_type": "code",
   "execution_count": 34,
   "metadata": {
    "collapsed": true,
    "hidden": true
   },
   "outputs": [],
   "source": [
    "class DotProduct(nn.Module):\n",
    "    def forward(self, u, m): return (u*m).sum(1)"
   ]
  },
  {
   "cell_type": "code",
   "execution_count": 35,
   "metadata": {
    "collapsed": true,
    "hidden": true
   },
   "outputs": [],
   "source": [
    "model=DotProduct()"
   ]
  },
  {
   "cell_type": "code",
   "execution_count": 36,
   "metadata": {
    "hidden": true
   },
   "outputs": [
    {
     "data": {
      "text/plain": [
       "tensor([  6.,  70.], device='cuda:0')"
      ]
     },
     "execution_count": 36,
     "metadata": {},
     "output_type": "execute_result"
    }
   ],
   "source": [
    "model(a,b)"
   ]
  },
  {
   "cell_type": "markdown",
   "metadata": {
    "heading_collapsed": true
   },
   "source": [
    "### Dot product model"
   ]
  },
  {
   "cell_type": "code",
   "execution_count": 90,
   "metadata": {
    "collapsed": true,
    "hidden": true
   },
   "outputs": [],
   "source": [
    "u_uniq = ratings.userId.unique()\n",
    "user2idx = {o:i for i,o in enumerate(u_uniq)}\n",
    "ratings.userId = ratings.userId.apply(lambda x: user2idx[x])\n",
    "\n",
    "m_uniq = ratings.movieId.unique()\n",
    "movie2idx = {o:i for i,o in enumerate(m_uniq)}\n",
    "ratings.movieId = ratings.movieId.apply(lambda x: movie2idx[x])\n",
    "\n",
    "n_users=int(ratings.userId.nunique())\n",
    "n_movies=int(ratings.movieId.nunique())"
   ]
  },
  {
   "cell_type": "code",
   "execution_count": 158,
   "metadata": {
    "collapsed": true,
    "hidden": true
   },
   "outputs": [],
   "source": [
    "class EmbeddingDot(nn.Module):\n",
    "    def __init__(self, n_users, n_movies):\n",
    "        super().__init__()\n",
    "        self.u = nn.Embedding(n_users, n_factors)\n",
    "        self.m = nn.Embedding(n_movies, n_factors)\n",
    "        self.u.weight.data.uniform_(0,0.05)\n",
    "        self.m.weight.data.uniform_(0,0.05)\n",
    "        \n",
    "    def forward(self, cats, conts):\n",
    "        users,movies = cats[:,0],cats[:,1]\n",
    "        u,m = self.u(users),self.m(movies)\n",
    "        ret=(u*m).sum(1)\n",
    "        return ret.view(ret.size()[0],1) "
   ]
  },
  {
   "cell_type": "code",
   "execution_count": 159,
   "metadata": {
    "collapsed": true,
    "hidden": true
   },
   "outputs": [],
   "source": [
    "x = ratings.drop(['rating', 'timestamp'],axis=1)\n",
    "y = ratings['rating'].astype(np.float32)"
   ]
  },
  {
   "cell_type": "code",
   "execution_count": 160,
   "metadata": {
    "hidden": true
   },
   "outputs": [],
   "source": [
    "data = ColumnarModelData.from_data_frame(path, val_idxs, x, y, ['userId', 'movieId'], 64)"
   ]
  },
  {
   "cell_type": "code",
   "execution_count": 161,
   "metadata": {
    "collapsed": true,
    "hidden": true
   },
   "outputs": [],
   "source": [
    "wd=1e-5\n",
    "model = EmbeddingDot(n_users, n_movies).cuda()\n",
    "opt = optim.SGD(model.parameters(), 1e-1, weight_decay=wd, momentum=0.9)"
   ]
  },
  {
   "cell_type": "code",
   "execution_count": 162,
   "metadata": {
    "hidden": true
   },
   "outputs": [
    {
     "data": {
      "application/vnd.jupyter.widget-view+json": {
       "model_id": "224f75c199e640e1bb475f7218722de5",
       "version_major": 2,
       "version_minor": 0
      },
      "text/plain": [
       "A Jupyter Widget"
      ]
     },
     "metadata": {},
     "output_type": "display_data"
    },
    {
     "name": "stdout",
     "output_type": "stream",
     "text": [
      "epoch      trn_loss   val_loss                                 \n",
      "    0      1.602664   1.635677  \n",
      "    1      1.06425    1.298748                                 \n",
      "    2      0.887915   1.226479                                  \n",
      "\n"
     ]
    },
    {
     "data": {
      "text/plain": [
       "[1.2264793167114258]"
      ]
     },
     "execution_count": 162,
     "metadata": {},
     "output_type": "execute_result"
    }
   ],
   "source": [
    "fit(model, data, 3, opt, F.mse_loss)"
   ]
  },
  {
   "cell_type": "code",
   "execution_count": 163,
   "metadata": {
    "collapsed": true,
    "hidden": true
   },
   "outputs": [],
   "source": [
    "set_lrs(opt, 0.01)"
   ]
  },
  {
   "cell_type": "code",
   "execution_count": 164,
   "metadata": {
    "hidden": true
   },
   "outputs": [
    {
     "data": {
      "application/vnd.jupyter.widget-view+json": {
       "model_id": "92267009885e47cd9a99f9608ac4f46e",
       "version_major": 2,
       "version_minor": 0
      },
      "text/plain": [
       "A Jupyter Widget"
      ]
     },
     "metadata": {},
     "output_type": "display_data"
    },
    {
     "name": "stdout",
     "output_type": "stream",
     "text": [
      "epoch      trn_loss   val_loss                                  \n",
      "    0      0.716369   1.149503  \n",
      "    1      0.71233    1.137093                                  \n",
      "    2      0.658079   1.130585                                  \n",
      "\n"
     ]
    },
    {
     "data": {
      "text/plain": [
       "[1.1305849707603455]"
      ]
     },
     "execution_count": 164,
     "metadata": {},
     "output_type": "execute_result"
    }
   ],
   "source": [
    "fit(model, data, 3, opt, F.mse_loss)"
   ]
  },
  {
   "cell_type": "markdown",
   "metadata": {
    "heading_collapsed": true
   },
   "source": [
    "### Bias"
   ]
  },
  {
   "cell_type": "code",
   "execution_count": 167,
   "metadata": {
    "hidden": true
   },
   "outputs": [
    {
     "data": {
      "text/plain": [
       "(0.5, 5.0)"
      ]
     },
     "execution_count": 167,
     "metadata": {},
     "output_type": "execute_result"
    }
   ],
   "source": [
    "min_rating,max_rating = ratings.rating.min(),ratings.rating.max()\n",
    "min_rating,max_rating"
   ]
  },
  {
   "cell_type": "code",
   "execution_count": 168,
   "metadata": {
    "collapsed": true,
    "hidden": true
   },
   "outputs": [],
   "source": [
    "def get_emb(ni,nf):\n",
    "    e = nn.Embedding(ni, nf)\n",
    "    e.weight.data.uniform_(-0.01,0.01)\n",
    "    return e\n",
    "\n",
    "class EmbeddingDotBias(nn.Module):\n",
    "    def __init__(self, n_users, n_movies):\n",
    "        super().__init__()\n",
    "        (self.u, self.m, self.ub, self.mb) = [get_emb(*o) for o in [\n",
    "            (n_users, n_factors), (n_movies, n_factors), (n_users,1), (n_movies,1)\n",
    "        ]]\n",
    "        \n",
    "    def forward(self, cats, conts):\n",
    "        users,movies = cats[:,0],cats[:,1]\n",
    "        um = (self.u(users)* self.m(movies)).sum(1)\n",
    "        res = um + self.ub(users).squeeze() + self.mb(movies).squeeze()\n",
    "        res = F.sigmoid(res) * (max_rating-min_rating) + min_rating\n",
    "        return res.view(-1,1)"
   ]
  },
  {
   "cell_type": "code",
   "execution_count": 169,
   "metadata": {
    "collapsed": true,
    "hidden": true,
    "scrolled": true
   },
   "outputs": [],
   "source": [
    "wd=2e-4\n",
    "model = EmbeddingDotBias(cf.n_users, cf.n_items).cuda()\n",
    "opt = optim.SGD(model.parameters(), 1e-1, weight_decay=wd, momentum=0.9)"
   ]
  },
  {
   "cell_type": "code",
   "execution_count": 170,
   "metadata": {
    "hidden": true
   },
   "outputs": [
    {
     "data": {
      "application/vnd.jupyter.widget-view+json": {
       "model_id": "323088f132c44f478e268373d182637e",
       "version_major": 2,
       "version_minor": 0
      },
      "text/plain": [
       "A Jupyter Widget"
      ]
     },
     "metadata": {},
     "output_type": "display_data"
    },
    {
     "name": "stdout",
     "output_type": "stream",
     "text": [
      "epoch      trn_loss   val_loss                                  \n",
      "    0      0.847044   0.839618  \n",
      "    1      0.82382    0.82015                                   \n",
      "    2      0.822005   0.807813                                  \n",
      "\n"
     ]
    },
    {
     "data": {
      "text/plain": [
       "[0.8078134284973144]"
      ]
     },
     "execution_count": 170,
     "metadata": {},
     "output_type": "execute_result"
    }
   ],
   "source": [
    "fit(model, data, 3, opt, F.mse_loss)"
   ]
  },
  {
   "cell_type": "code",
   "execution_count": 171,
   "metadata": {
    "collapsed": true,
    "hidden": true
   },
   "outputs": [],
   "source": [
    "set_lrs(opt, 1e-2)"
   ]
  },
  {
   "cell_type": "code",
   "execution_count": 172,
   "metadata": {
    "hidden": true
   },
   "outputs": [
    {
     "data": {
      "application/vnd.jupyter.widget-view+json": {
       "model_id": "5b03b313aa204fc4a8dd63499127df44",
       "version_major": 2,
       "version_minor": 0
      },
      "text/plain": [
       "A Jupyter Widget"
      ]
     },
     "metadata": {},
     "output_type": "display_data"
    },
    {
     "name": "stdout",
     "output_type": "stream",
     "text": [
      "epoch      trn_loss   val_loss                                  \n",
      "    0      0.742394   0.801958  \n",
      "    1      0.755982   0.800924                                  \n",
      "    2      0.727452   0.800246                                  \n",
      "\n"
     ]
    },
    {
     "data": {
      "text/plain": [
       "[0.8002459753036499]"
      ]
     },
     "execution_count": 172,
     "metadata": {},
     "output_type": "execute_result"
    }
   ],
   "source": [
    "fit(model, data, 3, opt, F.mse_loss)"
   ]
  },
  {
   "cell_type": "code",
   "execution_count": 174,
   "metadata": {},
   "outputs": [
    {
     "data": {
      "text/plain": [
       "<bound method Module.parameters of EmbeddingDotBias(\n",
       "  (u): Embedding(671, 50)\n",
       "  (m): Embedding(9066, 50)\n",
       "  (ub): Embedding(671, 1)\n",
       "  (mb): Embedding(9066, 1)\n",
       ")>"
      ]
     },
     "execution_count": 174,
     "metadata": {},
     "output_type": "execute_result"
    }
   ],
   "source": [
    "model.parameters"
   ]
  },
  {
   "cell_type": "code",
   "execution_count": 175,
   "metadata": {
    "collapsed": true
   },
   "outputs": [],
   "source": [
    "preds=predict(model,data.val_dl)"
   ]
  },
  {
   "cell_type": "code",
   "execution_count": 177,
   "metadata": {},
   "outputs": [
    {
     "data": {
      "image/png": "[encoded data removed]",
      "text/plain": [
       "<matplotlib.figure.Figure at 0x7f575c8f11d0>"
      ]
     },
     "metadata": {},
     "output_type": "display_data"
    }
   ],
   "source": [
    "y=data.val_y\n",
    "sns.jointplot(preds, y, kind='hex', stat_func=None);"
   ]
  },
  {
   "cell_type": "markdown",
   "metadata": {},
   "source": [
    "### Mini net"
   ]
  },
  {
   "cell_type": "code",
   "execution_count": 178,
   "metadata": {
    "code_folding": [],
    "collapsed": true
   },
   "outputs": [],
   "source": [
    "class EmbeddingNet(nn.Module):\n",
    "    def __init__(self, n_users, n_movies, nh=10, p1=0.05, p2=0.5):\n",
    "        super().__init__()\n",
    "        (self.u, self.m) = [get_emb(*o) for o in [\n",
    "            (n_users, n_factors), (n_movies, n_factors)]]\n",
    "        self.lin1 = nn.Linear(n_factors*2, nh)\n",
    "        self.lin2 = nn.Linear(nh, 1)\n",
    "        self.drop1 = nn.Dropout(p1)\n",
    "        self.drop2 = nn.Dropout(p2)\n",
    "        \n",
    "    def forward(self, cats, conts):\n",
    "        users,movies = cats[:,0],cats[:,1]\n",
    "        x = self.drop1(torch.cat([self.u(users),self.m(movies)], dim=1))\n",
    "        x = self.drop2(F.relu(self.lin1(x)))\n",
    "        return F.sigmoid(self.lin2(x)) * (max_rating-min_rating+1) + min_rating-0.5"
   ]
  },
  {
   "cell_type": "code",
   "execution_count": 179,
   "metadata": {
    "collapsed": true
   },
   "outputs": [],
   "source": [
    "wd=1e-5\n",
    "model = EmbeddingNet(n_users, n_movies).cuda()\n",
    "opt = optim.Adam(model.parameters(), 1e-3, weight_decay=wd)"
   ]
  },
  {
   "cell_type": "code",
   "execution_count": 180,
   "metadata": {},
   "outputs": [
    {
     "data": {
      "text/plain": [
       "<bound method Module.parameters of EmbeddingNet(\n",
       "  (u): Embedding(671, 50)\n",
       "  (m): Embedding(9066, 50)\n",
       "  (lin1): Linear(in_features=100, out_features=10, bias=True)\n",
       "  (lin2): Linear(in_features=10, out_features=1, bias=True)\n",
       "  (drop1): Dropout(p=0.05)\n",
       "  (drop2): Dropout(p=0.5)\n",
       ")>"
      ]
     },
     "execution_count": 180,
     "metadata": {},
     "output_type": "execute_result"
    }
   ],
   "source": [
    "model.parameters"
   ]
  },
  {
   "cell_type": "code",
   "execution_count": 181,
   "metadata": {},
   "outputs": [
    {
     "data": {
      "application/vnd.jupyter.widget-view+json": {
       "model_id": "ff6238f2cf024b9790d2d3818331cc3a",
       "version_major": 2,
       "version_minor": 0
      },
      "text/plain": [
       "A Jupyter Widget"
      ]
     },
     "metadata": {},
     "output_type": "display_data"
    },
    {
     "name": "stdout",
     "output_type": "stream",
     "text": [
      "epoch      trn_loss   val_loss                                  \n",
      "    0      0.883842   0.802773  \n",
      "    1      0.860118   0.790903                                  \n",
      "    2      0.814935   0.785071                                  \n",
      "\n"
     ]
    },
    {
     "data": {
      "text/plain": [
       "[0.7850708127975464]"
      ]
     },
     "execution_count": 181,
     "metadata": {},
     "output_type": "execute_result"
    }
   ],
   "source": [
    "fit(model, data, 3, opt, F.mse_loss)"
   ]
  },
  {
   "cell_type": "code",
   "execution_count": 182,
   "metadata": {
    "collapsed": true
   },
   "outputs": [],
   "source": [
    "set_lrs(opt, 1e-3)"
   ]
  },
  {
   "cell_type": "code",
   "execution_count": 183,
   "metadata": {},
   "outputs": [
    {
     "data": {
      "application/vnd.jupyter.widget-view+json": {
       "model_id": "7bfd7f86c17a41b08ba6463005354979",
       "version_major": 2,
       "version_minor": 0
      },
      "text/plain": [
       "A Jupyter Widget"
      ]
     },
     "metadata": {},
     "output_type": "display_data"
    },
    {
     "name": "stdout",
     "output_type": "stream",
     "text": [
      "epoch      trn_loss   val_loss                                  \n",
      "    0      0.820663   0.787023  \n",
      "    1      0.754273   0.792145                                  \n",
      "    2      0.753343   0.793811                                  \n",
      "\n"
     ]
    },
    {
     "data": {
      "text/plain": [
       "[0.793811245059967]"
      ]
     },
     "execution_count": 183,
     "metadata": {},
     "output_type": "execute_result"
    }
   ],
   "source": [
    "fit(model, data, 3, opt, F.mse_loss)"
   ]
  },
  {
   "cell_type": "code",
   "execution_count": 200,
   "metadata": {},
   "outputs": [
    {
     "data": {
      "text/plain": [
       "[('u.weight', Parameter containing:\n",
       "  tensor([[ 1.5877e-01,  1.6693e-01,  1.6298e-01,  ..., -1.3603e-01,\n",
       "            1.4792e-01, -1.3749e-01],\n",
       "          [-1.6113e-02, -1.4176e-02,  3.5407e-02,  ..., -4.1361e-02,\n",
       "            3.4596e-02, -2.6658e-02],\n",
       "          [ 6.2801e-03, -4.4623e-02,  9.2203e-03,  ...,  1.0804e-02,\n",
       "            7.8504e-02,  9.8452e-03],\n",
       "          ...,\n",
       "          [-1.2641e-02,  2.4620e-02, -4.5483e-04,  ..., -3.0201e-02,\n",
       "           -1.3212e-02, -3.2194e-02],\n",
       "          [-1.1395e-02, -9.1396e-02,  2.3600e-02,  ..., -1.5034e-03,\n",
       "            2.8966e-02,  3.5116e-02],\n",
       "          [ 1.6446e-02,  5.2546e-03,  9.9059e-03,  ...,  1.2919e-02,\n",
       "            1.7462e-02,  4.7270e-02]], device='cuda:0')),\n",
       " ('m.weight', Parameter containing:\n",
       "  tensor([[ 2.3591e-02, -5.3747e-02,  6.6707e-02,  ..., -7.6216e-03,\n",
       "           -2.5696e-02, -3.3680e-02],\n",
       "          [-3.8933e-02,  6.7154e-03, -2.9672e-02,  ...,  1.2938e-02,\n",
       "            5.8942e-02,  7.3863e-02],\n",
       "          [-3.6149e-02,  2.2107e-02, -7.0946e-02,  ..., -1.5060e-01,\n",
       "            8.2654e-02,  2.9535e-02],\n",
       "          ...,\n",
       "          [ 3.0613e-06, -2.7543e-04,  3.7870e-05,  ..., -1.8875e-06,\n",
       "           -2.4719e-05, -1.4680e-04],\n",
       "          [-1.8089e-39, -1.4942e-39, -3.0149e-40,  ...,  1.8141e-39,\n",
       "           -1.6691e-39, -1.0290e-39],\n",
       "          [-9.3695e-40, -1.8616e-39,  5.8138e-41,  ...,  1.7942e-39,\n",
       "            9.1865e-40,  9.2731e-40]], device='cuda:0')),\n",
       " ('lin1.weight', Parameter containing:\n",
       "  tensor([[ 1.6844e-01,  2.1066e-01,  5.8502e-02,  1.8437e-01,  6.6010e-02,\n",
       "           -8.1636e-03, -1.7276e-01, -3.4450e-02, -6.9860e-02,  9.9855e-02,\n",
       "            2.1805e-01,  6.8278e-02,  2.1788e-02, -3.6254e-02,  1.3557e-01,\n",
       "           -2.7413e-01,  1.1444e-01,  4.5061e-02,  2.9107e-02,  1.1945e-02,\n",
       "           -3.1374e-02,  7.6262e-02, -1.6490e-01,  1.1305e-01, -1.1894e-01,\n",
       "           -1.8618e-01,  3.4091e-01, -1.5526e-01,  3.6194e-02, -2.9753e-02,\n",
       "           -2.7215e-01,  1.4078e-01, -3.8946e-02, -4.7976e-02, -2.5576e-02,\n",
       "           -1.8388e-02,  2.6907e-02, -5.9556e-02, -7.3480e-02, -5.7437e-02,\n",
       "           -4.5093e-01,  1.2890e-01, -4.3135e-02,  1.8491e-01, -3.4930e-02,\n",
       "            1.2357e-01, -1.3811e-01, -6.4436e-02,  5.5082e-02, -4.6262e-02,\n",
       "            1.5778e-01, -2.4235e-01,  2.5436e-01, -1.8843e-01, -1.2442e-01,\n",
       "            1.3092e-01,  1.1119e-01,  1.2012e-01,  1.0915e-02,  4.8595e-02,\n",
       "           -4.2107e-02,  3.7153e-02, -1.6724e-01, -3.3247e-01, -1.7824e-01,\n",
       "           -6.0775e-02,  1.2688e-02,  2.0663e-01,  4.0974e-02,  2.6566e-01,\n",
       "           -5.8471e-02,  4.9296e-02, -2.0239e-01, -1.7292e-01, -2.0567e-01,\n",
       "            2.1796e-01, -1.0355e-01, -1.5964e-01,  1.2114e-03, -1.7644e-01,\n",
       "            7.0963e-02,  1.3185e-01, -2.5331e-01,  1.2398e-01,  3.5096e-01,\n",
       "           -2.9818e-03, -2.6070e-01, -1.2503e-01,  2.7681e-01, -4.9636e-02,\n",
       "           -1.7730e-01,  2.4278e-01, -1.9090e-01,  2.5981e-01, -1.2426e-01,\n",
       "            1.4625e-02, -8.6572e-02,  3.5826e-01, -1.8703e-01, -1.3176e-01],\n",
       "          [-2.3593e-02,  2.3751e-03, -5.7606e-02, -6.9938e-02,  1.3412e-01,\n",
       "            5.8724e-02,  9.0507e-02,  7.0367e-02,  1.1365e-01,  3.4998e-02,\n",
       "           -5.5009e-02, -1.9542e-02, -1.7828e-01,  1.4399e-01,  2.5555e-02,\n",
       "            5.4747e-03, -1.1753e-01, -8.5060e-02,  3.6123e-02,  1.4615e-01,\n",
       "            5.1575e-02,  1.0190e-01,  1.2197e-02, -8.4461e-02,  5.5711e-02,\n",
       "            1.7081e-01,  2.8139e-01,  4.2263e-02, -8.4433e-02,  1.9196e-02,\n",
       "           -2.4982e-01, -5.6670e-02,  1.3471e-01,  9.5413e-02,  1.2318e-01,\n",
       "           -2.4978e-01, -1.7146e-01,  1.1901e-01,  4.3857e-02,  8.1519e-02,\n",
       "           -3.4281e-01, -1.3170e-01, -1.4494e-02,  1.2798e-02, -4.9362e-02,\n",
       "            2.7472e-04,  5.3275e-02,  3.9165e-02, -1.1077e-01,  1.3389e-01,\n",
       "           -3.6975e-02,  1.5982e-01, -1.6236e-02,  1.0146e-01,  7.8536e-02,\n",
       "            2.1037e-02, -2.2224e-01,  1.3754e-02, -1.7829e-01, -1.0415e-01,\n",
       "            6.8345e-02, -1.0027e-02,  1.5675e-01,  3.0814e-02,  1.6223e-01,\n",
       "            2.4436e-01, -6.9595e-03, -1.6512e-01, -1.0654e-01, -6.1684e-02,\n",
       "            1.5239e-01, -5.9666e-02, -1.9894e-02, -1.1083e-02,  1.6926e-02,\n",
       "           -9.7282e-02,  8.3349e-02,  9.4808e-02, -9.9459e-02,  6.3978e-02,\n",
       "           -1.1801e-01, -1.0230e-01,  2.1387e-02, -6.1041e-02,  7.2637e-02,\n",
       "           -1.6987e-01,  1.3231e-01,  2.5938e-02, -8.4719e-02,  1.1873e-01,\n",
       "            6.7795e-02, -5.0756e-02,  1.4196e-01,  7.4555e-02, -2.8780e-01,\n",
       "           -2.3239e-01,  9.0377e-02,  5.5998e-01,  1.5007e-01,  1.6118e-01],\n",
       "          [ 1.2760e-01,  2.5848e-01,  4.7296e-02,  2.0045e-01, -7.4581e-02,\n",
       "           -7.3574e-02, -1.5375e-01, -8.4330e-02, -1.3995e-02,  2.7684e-01,\n",
       "            1.4002e-01,  7.5697e-02,  1.2853e-01, -1.4873e-01,  1.9629e-01,\n",
       "           -2.8904e-01, -1.6276e-02,  6.4319e-02,  2.6172e-01,  9.4029e-02,\n",
       "           -7.3747e-02,  2.3053e-02, -2.2667e-01,  1.5342e-01, -1.3299e-01,\n",
       "           -5.4836e-02,  3.3891e-01, -1.2280e-01,  9.5847e-02, -1.3045e-01,\n",
       "           -1.5011e-01,  2.0638e-01, -3.6129e-02, -7.4725e-02, -1.2458e-01,\n",
       "           -1.9604e-02,  1.4561e-02, -3.3951e-02, -7.4117e-02,  4.6204e-02,\n",
       "           -4.5092e-01,  8.2079e-02, -7.6800e-02,  1.4176e-01, -7.0752e-02,\n",
       "            1.7776e-01, -1.1662e-01, -8.2141e-02,  1.6367e-01, -3.3415e-02,\n",
       "            2.1014e-01, -1.7758e-01,  2.2904e-01, -1.1013e-01, -3.3240e-01,\n",
       "            1.1688e-01,  6.1015e-02,  2.6608e-01, -1.0214e-02,  8.1285e-02,\n",
       "           -9.8276e-02,  3.6962e-02, -1.3515e-01, -2.1714e-01, -2.1756e-01,\n",
       "           -1.1252e-01,  2.2818e-02,  1.1292e-01,  7.8550e-02,  2.6045e-01,\n",
       "           -9.2110e-02,  2.8319e-01, -2.7804e-01, -1.2617e-01, -2.7539e-01,\n",
       "            3.3082e-01, -2.2873e-01, -8.3100e-02,  8.8689e-02, -3.3003e-01,\n",
       "            1.7487e-01,  2.1234e-01, -2.5032e-01,  2.2164e-01,  2.1995e-01,\n",
       "           -9.8379e-02, -1.7522e-01,  3.8151e-02,  3.0926e-01,  1.1654e-01,\n",
       "           -1.7425e-01,  2.3159e-01, -2.7797e-01,  3.6683e-01, -5.3786e-02,\n",
       "            1.5020e-01, -2.1108e-01,  2.8688e-01, -2.8810e-01, -1.1449e-01],\n",
       "          [-2.8878e-02, -6.4841e-02, -9.6513e-02, -6.1689e-02,  8.6534e-02,\n",
       "            1.9863e-01,  1.1417e-01,  1.7575e-01,  2.3642e-01, -1.1273e-01,\n",
       "           -1.2634e-01, -1.5314e-01, -1.6953e-01, -3.1170e-03, -7.4725e-02,\n",
       "            5.8633e-02, -1.8401e-01, -1.4476e-01, -1.0893e-01,  2.1894e-01,\n",
       "            1.8313e-01, -1.2038e-01,  9.8823e-02, -7.9842e-02,  1.2746e-02,\n",
       "            2.1352e-01,  3.3763e-01,  1.1224e-01, -7.3142e-02,  5.5296e-02,\n",
       "           -3.0592e-01, -1.3110e-01,  9.2553e-02,  1.0479e-01,  1.6023e-02,\n",
       "           -2.6075e-01, -2.0011e-01,  1.6015e-01,  1.6392e-01,  2.4584e-01,\n",
       "           -3.7151e-01, -2.0951e-01,  7.7460e-02, -1.2140e-01, -4.7689e-02,\n",
       "           -4.1681e-02,  1.5934e-01,  7.2747e-02, -1.7352e-01,  2.7153e-02,\n",
       "           -8.2120e-02,  3.1942e-01, -1.2426e-01,  1.4618e-01,  1.1455e-01,\n",
       "            5.4992e-02, -2.3603e-01,  5.2037e-02, -3.1324e-01, -5.6014e-02,\n",
       "            1.8060e-01,  1.2325e-01,  1.5771e-01,  1.1416e-01,  2.7759e-01,\n",
       "            2.0617e-01,  8.3001e-02, -1.2721e-01, -2.7622e-01, -1.6633e-01,\n",
       "            2.0087e-01, -1.2661e-01,  1.2103e-01,  1.5570e-01,  2.1887e-02,\n",
       "           -1.0430e-01,  6.2996e-02,  8.1723e-02,  8.6932e-02,  8.5871e-02,\n",
       "           -1.4890e-01, -4.9407e-02,  1.7077e-01, -7.9266e-02,  1.3892e-01,\n",
       "           -1.8604e-01,  1.8092e-01,  1.1380e-01, -6.1621e-02,  2.8772e-01,\n",
       "            2.0755e-01, -1.8175e-01,  1.9972e-01,  2.6058e-01, -3.1373e-01,\n",
       "           -3.6037e-01,  1.5402e-01,  7.0358e-01,  1.0287e-02,  7.0443e-02],\n",
       "          [-1.1879e-01,  8.6165e-03, -5.6848e-02, -2.0980e-02,  3.9486e-02,\n",
       "           -1.9603e-02,  9.2729e-02,  7.1743e-03,  1.4132e-01, -5.4770e-02,\n",
       "           -1.4031e-03, -4.6028e-03, -5.2060e-02,  1.2528e-01, -2.8159e-02,\n",
       "            1.5086e-02, -1.5796e-01, -1.2926e-01,  2.5205e-03,  1.7311e-01,\n",
       "            6.8905e-02,  1.5198e-02,  7.0819e-02, -1.0870e-01,  1.0629e-01,\n",
       "            1.5323e-01,  3.0608e-01,  8.9645e-02, -7.9635e-02,  1.2929e-01,\n",
       "           -2.9410e-01,  4.3997e-02,  1.5494e-01,  5.8812e-02,  1.8035e-02,\n",
       "           -2.2711e-01, -1.4476e-01,  6.7294e-02,  8.8299e-02,  1.7657e-01,\n",
       "           -2.7481e-01, -1.4507e-01, -1.0487e-02, -1.6677e-02,  1.8665e-02,\n",
       "           -7.6783e-02, -3.5014e-02,  1.2785e-01, -1.3730e-01,  6.2136e-02,\n",
       "            8.3542e-03,  1.7226e-01, -7.2618e-02,  1.1452e-01,  8.4520e-02,\n",
       "            3.1503e-02, -1.3931e-01, -9.5151e-02, -1.3641e-01, -9.1717e-02,\n",
       "            6.3849e-02, -4.9852e-02,  1.0554e-01,  4.1533e-02,  8.7244e-02,\n",
       "            2.2005e-01, -5.5033e-02, -1.7149e-02, -1.9572e-01, -2.1276e-02,\n",
       "            3.7607e-02, -1.0673e-01,  9.8943e-03,  2.8175e-02, -4.9744e-02,\n",
       "           -6.6129e-02,  1.2785e-01,  1.1773e-01, -2.4737e-02, -2.7681e-02,\n",
       "           -6.1091e-02,  4.6139e-02,  5.2259e-02, -1.1914e-01, -4.3045e-02,\n",
       "           -1.4384e-01,  1.3679e-01,  3.1264e-02, -1.0991e-01,  2.0157e-01,\n",
       "            1.2952e-01, -1.1710e-01,  6.5975e-02,  1.4109e-01, -1.4540e-01,\n",
       "           -1.8137e-01,  1.0971e-01,  5.8317e-01,  3.5189e-02,  9.1087e-02],\n",
       "          [ 3.4588e-02,  1.2429e-01,  1.0720e-01,  1.4070e-01,  1.4295e-02,\n",
       "           -8.9964e-02, -1.1987e-01,  3.4847e-03, -3.1385e-02,  1.0507e-01,\n",
       "            1.7299e-01,  1.2325e-01,  1.0449e-01, -9.6165e-02,  6.3274e-02,\n",
       "           -1.5910e-01,  1.0084e-02,  2.2305e-02,  1.2295e-01, -4.8136e-02,\n",
       "           -1.0355e-01, -1.4279e-03, -1.4987e-01,  1.5444e-01, -1.2603e-01,\n",
       "           -1.0726e-01,  2.1379e-01, -1.5595e-01,  1.8791e-01, -5.3028e-02,\n",
       "           -8.2396e-02,  1.8342e-01, -1.9050e-02, -1.0824e-01, -8.2126e-02,\n",
       "            3.4056e-03,  1.1237e-01, -9.8917e-02, -1.2509e-01, -4.5252e-04,\n",
       "           -3.2035e-01,  1.0671e-01, -5.2210e-02,  2.0317e-01, -1.8794e-02,\n",
       "            1.5026e-01, -6.0504e-02, -1.3680e-01,  7.3269e-02, -1.0913e-01,\n",
       "            2.0786e-01, -9.5714e-02,  2.0515e-01, -1.1176e-01, -1.9128e-01,\n",
       "            1.0805e-01,  1.0576e-01,  1.9585e-01,  6.4411e-02,  1.8928e-01,\n",
       "           -4.8211e-02, -5.7985e-02, -2.1421e-01, -2.1511e-01, -2.0445e-01,\n",
       "           -4.7149e-03, -3.4927e-02,  1.9153e-01, -2.8870e-02,  1.6123e-01,\n",
       "           -9.8248e-02,  1.4954e-01, -1.3728e-01, -8.3241e-02, -1.9780e-01,\n",
       "            2.4722e-01, -3.9802e-02, -1.1948e-01, -5.2723e-02, -2.2709e-01,\n",
       "            2.8918e-02,  1.2369e-01, -2.1644e-01,  2.1072e-01,  2.3825e-01,\n",
       "            4.6843e-02, -1.6231e-01, -1.0872e-01,  2.2309e-01, -4.2128e-02,\n",
       "           -9.6230e-02,  1.7317e-01, -1.7113e-01,  2.0020e-01, -1.3247e-01,\n",
       "            8.5727e-02, -7.6603e-02,  2.8101e-01, -1.1110e-01, -1.0020e-01],\n",
       "          [-8.2579e-02, -2.5925e-02, -1.3385e-01, -9.0917e-02,  1.4204e-01,\n",
       "           -5.9201e-02,  1.0492e-01,  6.2329e-02,  1.9214e-01, -1.3121e-04,\n",
       "            5.1673e-02, -8.6743e-02, -1.4854e-01,  1.4462e-01, -1.5146e-02,\n",
       "            9.9233e-02, -2.2033e-01, -4.9379e-02, -4.4861e-02,  1.5704e-01,\n",
       "            7.8072e-02, -7.3317e-02,  1.1417e-01, -1.1006e-01,  6.0314e-02,\n",
       "            8.5618e-02,  2.9024e-01,  1.3717e-01, -1.1489e-02,  1.0465e-01,\n",
       "           -4.0731e-01, -8.5839e-02,  7.6628e-02,  5.3596e-02,  5.4566e-02,\n",
       "           -2.7156e-01, -1.9968e-01,  9.9940e-02,  2.8281e-02,  1.7952e-01,\n",
       "           -3.7828e-01, -8.7792e-02,  5.5361e-02, -4.2164e-02, -5.3612e-02,\n",
       "            1.0014e-02,  1.2692e-01,  1.0346e-01, -1.8506e-01,  2.3616e-03,\n",
       "           -7.2423e-02,  2.3083e-01, -8.0294e-02, -2.6263e-03,  8.0765e-02,\n",
       "           -8.7943e-03, -2.4584e-01, -2.6455e-02, -1.7106e-01, -8.2441e-02,\n",
       "            1.3997e-01,  3.6031e-02,  8.4065e-02, -2.3155e-02,  1.6314e-01,\n",
       "            2.3099e-01, -7.0348e-02, -2.5846e-02, -2.7850e-01, -1.4574e-01,\n",
       "            7.8020e-02, -1.2508e-01,  5.8496e-02,  2.9501e-02, -9.6743e-02,\n",
       "           -9.2556e-02,  1.3376e-01,  6.3511e-02,  3.1068e-02,  3.1005e-02,\n",
       "           -1.6452e-01, -1.2609e-01,  7.2356e-02, -1.8556e-02,  3.2338e-03,\n",
       "           -1.2688e-01,  1.3162e-01,  9.0308e-03, -7.2028e-02,  2.2507e-01,\n",
       "            2.4610e-01, -4.8747e-02,  1.7173e-01,  1.1251e-01, -2.1434e-01,\n",
       "           -2.5659e-01,  1.2804e-01,  6.6067e-01,  6.6645e-02,  1.4457e-01],\n",
       "          [ 6.5542e-02,  1.2067e-01,  8.1350e-02, -2.0031e-02, -8.3520e-02,\n",
       "           -6.6619e-02, -2.2305e-01, -8.0319e-02, -8.8436e-02,  1.1415e-01,\n",
       "            2.5433e-01,  9.2856e-02,  9.2956e-02, -1.5111e-01,  1.7890e-01,\n",
       "           -7.9727e-02,  5.8688e-02,  1.5589e-01,  1.7585e-01,  6.5282e-02,\n",
       "           -9.5210e-02,  4.6623e-02, -9.4135e-02,  4.7131e-02, -6.8659e-02,\n",
       "           -1.0636e-01,  4.0057e-01, -7.7380e-02,  1.8474e-01, -6.5958e-02,\n",
       "           -2.4883e-01,  2.2023e-01, -1.1344e-01,  5.3150e-02, -7.0365e-02,\n",
       "           -3.4639e-02,  3.6818e-02, -9.1415e-02, -9.8210e-02, -8.5771e-02,\n",
       "           -3.6030e-01,  1.1981e-01, -1.0970e-02,  1.5354e-01, -6.3934e-02,\n",
       "            1.0822e-01, -1.1191e-01, -1.3820e-01,  4.7808e-02, -1.3099e-01,\n",
       "            1.4292e-01, -1.0376e-01,  6.4313e-02, -1.6167e-01, -1.6600e-01,\n",
       "            1.9694e-01, -4.7351e-02,  3.1848e-01, -7.9167e-02,  2.3922e-01,\n",
       "           -1.5072e-01, -2.1777e-03, -2.4253e-01, -2.5420e-01, -2.3811e-01,\n",
       "            1.7252e-02,  3.6348e-02,  1.5461e-01, -4.4000e-02,  1.3347e-01,\n",
       "           -1.8151e-01,  1.7987e-01, -1.9354e-01, -1.4036e-01, -1.3129e-01,\n",
       "            1.6576e-01, -3.6037e-02, -2.1210e-02, -2.1478e-02, -3.1730e-01,\n",
       "            1.8200e-01,  1.4215e-01, -2.0637e-01,  1.7463e-01,  2.0340e-01,\n",
       "            6.3014e-02, -1.3065e-01, -1.1768e-01,  8.6411e-02, -5.2874e-02,\n",
       "           -1.2200e-01,  9.9205e-02, -1.9447e-01,  2.2083e-01, -2.6870e-01,\n",
       "            4.2302e-02, -5.6592e-02,  3.5623e-01, -2.3001e-01, -1.4058e-01],\n",
       "          [-7.8051e-03, -8.3871e-02,  2.2347e-02, -6.2375e-02,  5.6945e-02,\n",
       "            2.5299e-02,  1.3718e-02,  5.4642e-02,  9.1370e-02, -4.1579e-02,\n",
       "            4.5545e-02, -1.1512e-01, -9.6498e-02, -3.9359e-02, -2.0675e-02,\n",
       "            3.0767e-02, -7.0795e-02, -1.4284e-01, -6.7708e-02,  1.2806e-01,\n",
       "            1.1118e-02, -3.0312e-02, -4.7343e-02, -8.6423e-02,  7.1667e-02,\n",
       "            1.1887e-01,  2.1517e-01,  8.2116e-02, -8.2946e-02,  5.8573e-02,\n",
       "           -2.1403e-01, -7.4684e-02,  1.2804e-01,  3.5940e-03, -8.8802e-03,\n",
       "           -1.6345e-01, -1.8649e-01,  5.0046e-02,  1.5437e-01,  7.1550e-02,\n",
       "           -2.1170e-01, -4.5844e-02, -3.1293e-02, -6.7928e-02,  1.4423e-02,\n",
       "           -5.1331e-02,  8.6418e-02,  7.7409e-02, -1.1814e-01, -1.3764e-02,\n",
       "           -9.0395e-02,  1.5828e-01, -2.1285e-02,  1.4274e-01,  5.5587e-02,\n",
       "           -7.1898e-02, -2.5778e-01,  1.8990e-02, -1.6043e-01, -5.8945e-02,\n",
       "            1.5572e-01, -5.3331e-03,  4.7951e-02,  6.9842e-02,  1.3463e-01,\n",
       "            1.6096e-01,  3.6924e-02, -1.3410e-01, -2.1084e-01, -8.3234e-02,\n",
       "            1.1271e-01, -9.3190e-02,  6.2087e-02,  1.1011e-01,  2.4136e-02,\n",
       "           -6.5608e-02,  8.7017e-02,  1.3468e-01, -5.9084e-03, -6.6724e-02,\n",
       "           -1.3396e-01, -1.3236e-02, -4.5111e-03, -1.3056e-01,  7.1004e-02,\n",
       "           -1.0066e-01,  1.3190e-01,  8.0050e-02, -8.5783e-02,  1.1340e-01,\n",
       "            1.1485e-01, -1.6790e-01,  7.0321e-02,  1.7703e-01, -2.2898e-01,\n",
       "           -1.5820e-01, -2.0668e-02,  5.8678e-01,  5.6943e-02,  1.4753e-02],\n",
       "          [-4.6766e-06,  4.0114e-08, -1.0413e-06,  9.8232e-06, -1.4777e-09,\n",
       "           -8.2218e-09,  1.5850e-06,  1.4671e-07,  1.8283e-08, -8.6649e-07,\n",
       "           -6.7566e-09,  4.2131e-07, -6.9967e-07, -3.2223e-07, -9.0076e-07,\n",
       "           -6.3101e-07,  4.9054e-07,  1.1438e-06,  9.5831e-07,  2.4330e-07,\n",
       "           -1.1528e-06,  2.5941e-08,  1.6474e-06,  7.3818e-07, -1.2606e-06,\n",
       "           -4.8700e-06, -3.3885e-18,  1.7041e-08, -3.3404e-07, -5.9697e-07,\n",
       "            1.4846e-10, -5.7605e-08,  2.2338e-07,  8.0487e-07,  7.0157e-07,\n",
       "           -2.2259e-08,  3.8901e-06, -5.8220e-06,  4.2157e-07,  2.3260e-06,\n",
       "            2.9917e-13,  1.3314e-07,  5.9075e-08, -1.9426e-06, -2.8394e-12,\n",
       "           -7.1041e-07, -1.9189e-06, -5.3915e-07,  2.2185e-06, -4.1337e-07,\n",
       "           -2.9464e-11,  2.0270e-10, -5.5867e-09, -1.1620e-10, -3.9656e-10,\n",
       "           -1.9873e-12,  1.5398e-08, -1.9812e-09,  8.6956e-11,  4.4832e-11,\n",
       "           -5.1908e-10, -2.0002e-10,  9.4827e-10, -4.2100e-09, -1.8438e-17,\n",
       "           -1.4176e-09,  4.3508e-19, -1.0587e-09, -5.7693e-19,  6.5298e-10,\n",
       "            1.1022e-10,  4.2539e-11, -1.9640e-11,  1.8023e-11, -1.6095e-09,\n",
       "           -9.2148e-11,  1.7944e-10, -7.7957e-09,  1.0426e-10,  1.8006e-11,\n",
       "           -2.5636e-11, -6.6552e-11,  3.6804e-10, -2.5864e-09, -7.5850e-11,\n",
       "            1.8596e-12,  1.5624e-09,  4.6990e-10,  7.1724e-09, -1.9521e-10,\n",
       "            1.9427e-11, -1.1181e-08, -3.8743e-11, -8.2194e-10, -6.8618e-14,\n",
       "            2.2995e-11, -4.9219e-11,  3.4507e-10,  1.7848e-11,  1.2376e-11]], device='cuda:0')),\n",
       " ('lin1.bias', Parameter containing:\n",
       "  tensor(1.00000e-02 *\n",
       "         [-5.1010, -2.5278, -1.6700,  5.2588, -0.7600, -2.2499, -0.1143,\n",
       "          -7.1016,  2.2884, -2.6771], device='cuda:0')),\n",
       " ('lin2.weight', Parameter containing:\n",
       "  tensor([[-3.2028e-01,  2.1223e-01, -2.4892e-01,  1.5147e-01,  2.7150e-01,\n",
       "           -3.0555e-01,  1.9636e-01, -3.7879e-01,  2.5085e-01, -2.6649e-10]], device='cuda:0')),\n",
       " ('lin2.bias', Parameter containing:\n",
       "  tensor([ 0.4945], device='cuda:0'))]"
      ]
     },
     "execution_count": 200,
     "metadata": {},
     "output_type": "execute_result"
    }
   ],
   "source": [
    "list(model.named_parameters())"
   ]
  }
 ],
 "metadata": {
  "kernelspec": {
   "display_name": "Python 3",
   "language": "python",
   "name": "python3"
  },
  "language_info": {
   "codemirror_mode": {
    "name": "ipython",
    "version": 3
   },
   "file_extension": ".py",
   "mimetype": "text/x-python",
   "name": "python",
   "nbconvert_exporter": "python",
   "pygments_lexer": "ipython3",
   "version": "3.6.3"
  },
  "toc": {
   "colors": {
    "hover_highlight": "#DAA520",
    "navigate_num": "#000000",
    "navigate_text": "#333333",
    "running_highlight": "#FF0000",
    "selected_highlight": "#FFD700",
    "sidebar_border": "#EEEEEE",
    "wrapper_background": "#FFFFFF"
   },
   "moveMenuLeft": true,
   "nav_menu": {
    "height": "123px",
    "width": "252px"
   },
   "navigate_menu": true,
   "number_sections": true,
   "sideBar": true,
   "threshold": 4,
   "toc_cell": false,
   "toc_section_display": "block",
   "toc_window_display": false,
   "widenNotebook": false
  }
 },
 "nbformat": 4,
 "nbformat_minor": 2
}
